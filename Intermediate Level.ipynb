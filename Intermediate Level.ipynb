{
 "cells": [
  {
   "cell_type": "code",
   "execution_count": null,
   "id": "aa8dc1e0-92d9-4926-aaaa-eb24aa21720d",
   "metadata": {},
   "outputs": [],
   "source": [
    "#1.Web Scrapper\n",
    "import requests\n",
    "from bs4 import BeautifulSoup\n",
    "import csv\n",
    "\n",
    "def scrape_wikipedia(url):\n",
    "    response = requests.get(url)\n",
    "    soup = BeautifulSoup(response.text, 'html.parser')\n",
    "\n",
    "    headings = [h2.text.strip() for h2 in soup.find_all(['h2', 'h3'])]\n",
    "    paragraphs = [p.text.strip() for p in soup.find_all('p')]\n",
    "\n",
    "    data = []\n",
    "    for heading, paragraph in zip(headings, paragraphs):\n",
    "        data.append({\n",
    "            \"Heading\": heading,\n",
    "            \"Paragraph\": paragraph\n",
    "        })\n",
    "\n",
    "    return data\n",
    "\n",
    "def save_to_csv(data, filename):\n",
    "    with open(filename, 'w', newline='') as file:\n",
    "        writer = csv.DictWriter(file, fieldnames=[\"Heading\", \"Paragraph\"])\n",
    "        writer.writeheader()\n",
    "        writer.writerows(data)\n",
    "\n",
    "def main():\n",
    "    url = input(\"Enter the Wikipedia URL: \")\n",
    "    filename = input(\"Enter the CSV filename: \") + \".csv\"\n",
    "\n",
    "    try:\n",
    "        data = scrape_wikipedia(url)\n",
    "        save_to_csv(data, filename)\n",
    "        print(\"Data scraping under proces...Scraped data saved to csv. Please do check it out!\")\n",
    "    except Exception as e:\n",
    "        print(\"There is an error:\", str(e))\n",
    "\n",
    "if __name__ == \"__main__\":\n",
    "    main()\n"
   ]
  },
  {
   "cell_type": "code",
   "execution_count": 1,
   "id": "368d4043-f3ca-41cd-9747-1c11f51232c2",
   "metadata": {},
   "outputs": [
    {
     "name": "stdout",
     "output_type": "stream",
     "text": [
      "WELCOME TO THE HANGMAN GAME.\n",
      "HINT: Italians nightmare if made in wrong way(food).\n",
      "_ _ _ _ _ \n",
      "\n",
      "Tries left: 8\n"
     ]
    },
    {
     "name": "stdin",
     "output_type": "stream",
     "text": [
      "Guess a letter:  m\n"
     ]
    },
    {
     "name": "stdout",
     "output_type": "stream",
     "text": [
      "Wrong Letter, try again!\n",
      "_ _ _ _ _ \n",
      "\n",
      "Tries left: 7\n"
     ]
    },
    {
     "name": "stdin",
     "output_type": "stream",
     "text": [
      "Guess a letter:  p\n"
     ]
    },
    {
     "name": "stdout",
     "output_type": "stream",
     "text": [
      "You guessed the letter correctly!\n",
      "p _ _ _ _ \n",
      "\n",
      "Tries left: 7\n"
     ]
    },
    {
     "name": "stdin",
     "output_type": "stream",
     "text": [
      "Guess a letter:  a\n"
     ]
    },
    {
     "name": "stdout",
     "output_type": "stream",
     "text": [
      "You guessed the letter correctly!\n",
      "p a _ _ a \n",
      "\n",
      "Tries left: 7\n"
     ]
    },
    {
     "name": "stdin",
     "output_type": "stream",
     "text": [
      "Guess a letter:  k\n"
     ]
    },
    {
     "name": "stdout",
     "output_type": "stream",
     "text": [
      "Wrong Letter, try again!\n",
      "p a _ _ a \n",
      "\n",
      "Tries left: 6\n"
     ]
    },
    {
     "name": "stdin",
     "output_type": "stream",
     "text": [
      "Guess a letter:  s\n"
     ]
    },
    {
     "name": "stdout",
     "output_type": "stream",
     "text": [
      "You guessed the letter correctly!\n",
      "p a s _ a \n",
      "\n",
      "Tries left: 6\n"
     ]
    },
    {
     "name": "stdin",
     "output_type": "stream",
     "text": [
      "Guess a letter:  t\n"
     ]
    },
    {
     "name": "stdout",
     "output_type": "stream",
     "text": [
      "You guessed the letter correctly!\n",
      "p a s t a \n",
      "\n",
      "YOU WON!! The word was: pasta\n"
     ]
    }
   ],
   "source": [
    "import random\n",
    "from collections import Counter\n",
    "\n",
    "words_for_game = {\n",
    "    \"apple\": \"Keeps the doctor away!\",\n",
    "    \"mango\": \"Typical summer fruit - THE KING!\",\n",
    "    \"grape\": \"Used to make wine.\",\n",
    "    \"watermelon\": \"GREEN outside RED inside...tasty and juicy too!\",\n",
    "    \"tomato\": \"Red and often mistaken as a vegetable.\",\n",
    "    \"icecream\": \"A cold soft dessert no one denies!!\",\n",
    "    \"pasta\": \"Italians nightmare if made in wrong way(food).\",\n",
    "    \"maggie\": \"Can be made in 2 mins apparently.\",\n",
    "    \"lemonade\": \"When life gives you lemons....\",\n",
    "    \"sky\": \"Nature's canvas to play with clouds.\",\n",
    "    \"grass\": \"Cow's basic food!\",\n",
    "    \"rose\": \"Flower that's red and represents love\",\n",
    "    \"rainbow\": \"Arch with seven beautiful colours.\",\n",
    "    \"watch\": \"A wristband used to see the time.\",\n",
    "    \"earrings\": \"Accessory made for your ears?\",\n",
    "    \"ring\": \"One that you wear in your fingers.\",\n",
    "    \"door\": \"Locked it but since you forgot it, you have to go and check again!\",\n",
    "    \"milk\": \"The one your mom told to boil and not overflow it, but guess what?\"\n",
    "}\n",
    "\n",
    "word = random.choice(list(words_for_game.keys())) #chooses random words from the list.\n",
    "hint = words_for_game[word]\n",
    "\n",
    "#to store guessed letters\n",
    "guessed_letters = []\n",
    "tries = len(word) + 3 \n",
    "game_over = False\n",
    "\n",
    "print(\"WELCOME TO THE HANGMAN GAME.\")\n",
    "print(\"HINT:\", hint)\n",
    "print(\"_ \" * len(word))  #to store blank spaces for letters of the word\n",
    "\n",
    "while not game_over:\n",
    "    print(\"\\nTries left:\", tries)\n",
    "    guess = input(\"Guess a letter: \").lower().strip()\n",
    "\n",
    "   #for invalid inputs\n",
    "    if not guess.isalpha():\n",
    "        print(\"Please enter only a letter!\")\n",
    "        continue\n",
    "    if len(guess) != 1:\n",
    "        print(\"Enter one letter at a time.\")\n",
    "        continue\n",
    "    if guess in guessed_letters:\n",
    "        print(\"You guessed that letter already\")\n",
    "        continue\n",
    "\n",
    "    guessed_letters.append(guess)\n",
    "\n",
    "    #for valid inputs\n",
    "    if guess in word:\n",
    "        print(\"You guessed the letter correctly!\")\n",
    "    else:\n",
    "        print(\"Wrong Letter, try again!\")\n",
    "        tries -= 1\n",
    "\n",
    "    #displys the words progress\n",
    "    display = \"\"\n",
    "    for letter in word:\n",
    "        if letter in guessed_letters:\n",
    "            display += letter + \" \"\n",
    "        else:\n",
    "            display += \"_ \"\n",
    "    print(display)\n",
    "\n",
    "    #checks if player won\n",
    "    if \"_\" not in display:\n",
    "        print(\"\\nYOU WON!! The word was:\", word)\n",
    "        game_over = True\n",
    "\n",
    "    #checks if player lost\n",
    "    if tries <= 0:\n",
    "        print(\"\\nSorry, you lost the game. The word was:\", word)\n",
    "        game_over = True\n",
    "\n",
    "\n",
    "\n"
   ]
  },
  {
   "cell_type": "code",
   "execution_count": null,
   "id": "7bc0e32d-f9b3-4841-bfa7-287ea1828902",
   "metadata": {},
   "outputs": [],
   "source": []
  }
 ],
 "metadata": {
  "kernelspec": {
   "display_name": "Python 3 (ipykernel)",
   "language": "python",
   "name": "python3"
  },
  "language_info": {
   "codemirror_mode": {
    "name": "ipython",
    "version": 3
   },
   "file_extension": ".py",
   "mimetype": "text/x-python",
   "name": "python",
   "nbconvert_exporter": "python",
   "pygments_lexer": "ipython3",
   "version": "3.13.5"
  }
 },
 "nbformat": 4,
 "nbformat_minor": 5
}
