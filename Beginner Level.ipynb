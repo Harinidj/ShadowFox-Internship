{
 "cells": [
  {
   "cell_type": "code",
   "execution_count": 1,
   "id": "a77e0527-ad0a-4004-a413-0f2faf4bf835",
   "metadata": {},
   "outputs": [
    {
     "name": "stdout",
     "output_type": "stream",
     "text": [
      "3.142857142857143\n",
      "<class 'float'>\n"
     ]
    }
   ],
   "source": [
    "#1.Variables\n",
    "\n",
    "pi = 22/7\n",
    "print(pi)\n",
    "print(type(pi))"
   ]
  },
  {
   "cell_type": "code",
   "execution_count": 2,
   "id": "29c57078-2f67-4d16-8523-3316d80b2b99",
   "metadata": {},
   "outputs": [
    {
     "ename": "SyntaxError",
     "evalue": "invalid syntax (1392462817.py, line 1)",
     "output_type": "error",
     "traceback": [
      "\u001b[1;36m  Cell \u001b[1;32mIn[2], line 1\u001b[1;36m\u001b[0m\n\u001b[1;33m    for = 4\u001b[0m\n\u001b[1;37m        ^\u001b[0m\n\u001b[1;31mSyntaxError\u001b[0m\u001b[1;31m:\u001b[0m invalid syntax\n"
     ]
    }
   ],
   "source": [
    "for = 4\n",
    "#causes syntax error because 'for' is a reserved keyword and can be used for only loops."
   ]
  },
  {
   "cell_type": "code",
   "execution_count": 4,
   "id": "c95f3420-583d-472e-a456-a0c6d9dfc984",
   "metadata": {},
   "outputs": [
    {
     "name": "stdout",
     "output_type": "stream",
     "text": [
      "The Simple Interest is 3750.0\n"
     ]
    }
   ],
   "source": [
    "#simple interest\n",
    "\n",
    "P = 25000\n",
    "R = 5\n",
    "T = 3\n",
    "\n",
    "SI = (P*R*T)/100\n",
    "print(\"The Simple Interest is\", SI)"
   ]
  },
  {
   "cell_type": "code",
   "execution_count": 15,
   "id": "7aa2df25-b64f-4372-8f4e-2be149f53dd3",
   "metadata": {},
   "outputs": [
    {
     "name": "stdout",
     "output_type": "stream",
     "text": [
      "Initial Justice League: ['Superman', 'Batman', 'Wonder Woman', 'Flash', 'Aquaman', 'Green Lantern']\n",
      "Number of members: 6\n",
      "Justice League with new members: ['Superman', 'Batman', 'Wonder Woman', 'Flash', 'Aquaman', 'Green Lantern', 'Batgirl', 'Nightwing']\n",
      "New Leader: ['Wonder Woman', 'Superman', 'Batman', 'Flash', 'Aquaman', 'Green Lantern', 'Batgirl', 'Nightwing']\n",
      "After resolving disputes: ['Wonder Woman', 'Batman', 'Flash', 'Superman', 'Aquaman', 'Green Lantern', 'Batgirl', 'Nightwing']\n",
      "New Justice League: ['Cyborg', 'Shazam', 'Hawkgirl', 'Martian Manhunter', 'Green Arrow']\n",
      "Alphabetically sorted league: ['Cyborg', 'Green Arrow', 'Hawkgirl', 'Martian Manhunter', 'Shazam']\n",
      "New Leader: Cyborg\n"
     ]
    }
   ],
   "source": [
    "#2.List\n",
    "\n",
    "justice_league = [\"Superman\", \"Batman\", \"Wonder Woman\", \"Flash\", \"Aquaman\", \"Green Lantern\"]\n",
    "print(\"Initial Justice League:\", justice_league)\n",
    "\n",
    "#1 no. of members.\n",
    "print(\"Number of members:\", len(justice_league))\n",
    "\n",
    "#2 adding batgirl & nightwing to the league.\n",
    "justice_league.extend([\"Batgirl\", \"Nightwing\"])\n",
    "print(\"Justice League with new members:\", justice_league)\n",
    "\n",
    "#3 make wonder woman the leader of the league.\n",
    "justice_league.remove(\"Wonder Woman\")\n",
    "justice_league.insert(0, \"Wonder Woman\")\n",
    "print(\"New Leader:\", justice_league)\n",
    "\n",
    "#4 move superman in between aquaman and flash.\n",
    "justice_league.remove(\"Superman\")\n",
    "index_flash = justice_league.index(\"Flash\")\n",
    "justice_league.insert(index_flash + 1, \"Superman\")\n",
    "print(\"After resolving disputes:\", justice_league)\n",
    "\n",
    "\n",
    "#5 assembling a new team.\n",
    "justice_league = [\"Cyborg\", \"Shazam\", \"Hawkgirl\", \"Martian Manhunter\", \"Green Arrow\"]\n",
    "print(\"New Justice League:\", justice_league)\n",
    "\n",
    "#6 sort their names alphabetically.\n",
    "justice_league.sort()\n",
    "print(\"Alphabetically sorted league:\", justice_league)\n",
    "\n",
    "#7 find new leader.\n",
    "print(\"New Leader:\", justice_league[0].split()[0])\n"
   ]
  },
  {
   "cell_type": "code",
   "execution_count": 19,
   "id": "edb0858e-9ec9-4d6a-a2f7-2ae0bf6f79dc",
   "metadata": {},
   "outputs": [
    {
     "name": "stdin",
     "output_type": "stream",
     "text": [
      "Enter height in meters: 1.55\n",
      "Enter weight in kilograms: 65\n"
     ]
    },
    {
     "name": "stdout",
     "output_type": "stream",
     "text": [
      "You are Overweight.\n",
      "\n"
     ]
    },
    {
     "name": "stdin",
     "output_type": "stream",
     "text": [
      "Enter a city name: Dubai\n"
     ]
    },
    {
     "name": "stdout",
     "output_type": "stream",
     "text": [
      "Dubai is in UAE.\n",
      "\n"
     ]
    },
    {
     "name": "stdin",
     "output_type": "stream",
     "text": [
      "Enter the first city: Dubai\n",
      "Enter the second city: Mumbai\n"
     ]
    },
    {
     "name": "stdout",
     "output_type": "stream",
     "text": [
      "They don't belong to the same country.\n"
     ]
    }
   ],
   "source": [
    "#3.If Condition\n",
    "\n",
    "#1 BMI\n",
    "height = float(input(\"Enter height in meters:\"))\n",
    "weight = float(input(\"Enter weight in kilograms:\"))\n",
    "\n",
    "bmi = weight/(height**2)\n",
    "\n",
    "if bmi >= 30:\n",
    "    print(\"You are Obese.\\n\")\n",
    "elif bmi >= 25:\n",
    "    print(\"You are Overweight.\\n\")\n",
    "elif bmi >= 18.5:\n",
    "    print(\"You are Normal.\\n\")\n",
    "else:\n",
    "    print(\"You are Underweight.\\n\")\n",
    "\n",
    "#2 Find Country from City.\n",
    "Australia = [\"Sydney\", \"Melbourne\", \"Brisbane\", \"Perth\"]\n",
    "UAE = [\"Dubai\", \"Abu Dhabi\", \"Sharjah\", \"Ajman\"]\n",
    "India = [\"Mumbai\", \"Bangalore\", \"Chennai\", \"Delhi\"]\n",
    "\n",
    "city = input(\"Enter a city name:\")\n",
    "\n",
    "if city in Australia:\n",
    "    print(f\"{city} is in Australia.\\n\")\n",
    "elif city in UAE:\n",
    "    print(f\"{city} is in UAE.\\n\")\n",
    "elif city in India:\n",
    "    print(f\"{city} is in India.\\n\")\n",
    "else:\n",
    "    print(\"City not found in list.\\n\")\n",
    "\n",
    "#3 Checking if two cities in the same country.\n",
    "Australia = [\"Sydney\", \"Melbourne\", \"Brisbane\", \"Perth\"]\n",
    "UAE = [\"Dubai\", \"Abu Dhabi\", \"Sharjah\", \"Ajman\"]\n",
    "India = [\"Mumbai\", \"Bangalore\", \"Chennai\", \"Delhi\"]\n",
    "\n",
    "city1 = input(\"Enter the first city:\")\n",
    "city2 = input(\"Enter the second city:\")\n",
    "\n",
    "if (city1 in Australia and city2 in Australia):\n",
    "    print(\"Both cities are in Australia.\")\n",
    "elif (city1 in UAE and city2 in UAE):\n",
    "    print(\"Both cities are in UAE.\")\n",
    "elif (city1 in India and city2 in India):\n",
    "    print(\"Both cities are in India.\")\n",
    "else:\n",
    "    print(\"They don't belong to the same country.\")\n",
    "\n",
    "\n",
    "\n",
    "\n",
    "\n",
    "\n",
    "    \n",
    "    "
   ]
  },
  {
   "cell_type": "code",
   "execution_count": 25,
   "id": "80d9e68c-720d-49f1-8211-e59858ded2bb",
   "metadata": {},
   "outputs": [
    {
     "name": "stdout",
     "output_type": "stream",
     "text": [
      "Rolled: 2\n",
      "Rolled: 1\n",
      "Rolled: 6\n",
      "Rolled: 5\n",
      "Rolled: 6\n",
      "Rolled: 6\n",
      "Rolled: 3\n",
      "Rolled: 2\n",
      "Rolled: 1\n",
      "Rolled: 3\n",
      "Rolled: 6\n",
      "Rolled: 2\n",
      "Rolled: 4\n",
      "Rolled: 4\n",
      "Rolled: 3\n",
      "\n",
      "Statistics:\n",
      "Total 6s rolled: 4\n",
      "Total 1s rolled: 2\n",
      "Total times two 6s in a row: 1\n",
      "\n",
      "You have completed 10 jumping jacks.\n"
     ]
    },
    {
     "name": "stdin",
     "output_type": "stream",
     "text": [
      "Are you tired? (yes or no):  no\n"
     ]
    },
    {
     "name": "stdout",
     "output_type": "stream",
     "text": [
      "90 jumping jacks remaining.\n",
      "\n",
      "You have completed 20 jumping jacks.\n"
     ]
    },
    {
     "name": "stdin",
     "output_type": "stream",
     "text": [
      "Are you tired? (yes or no):  yes\n",
      "Do you want to skip the remaining sets? (yes or no):  yes\n"
     ]
    },
    {
     "name": "stdout",
     "output_type": "stream",
     "text": [
      "You completed a total of 20 jumping jacks.\n"
     ]
    }
   ],
   "source": [
    "#4.For Loop\n",
    "\n",
    "#1 DICE\n",
    "import random\n",
    "\n",
    "rolls = 15\n",
    "count_six = 0\n",
    "count_one = 0\n",
    "count_two_sixes = 0\n",
    "previous_roll = None\n",
    "\n",
    "for i in range(rolls):\n",
    "    roll = random.randint(1,6)\n",
    "    print(\"Rolled:\", roll)\n",
    "\n",
    "    if roll == 6:\n",
    "        count_six += 1\n",
    "        if previous_roll == 6:\n",
    "            count_two_sixes += 1\n",
    "    if roll == 1:\n",
    "        count_one +=1\n",
    "\n",
    "    previous_roll = roll\n",
    "\n",
    "print(\"\\nStatistics:\")\n",
    "print(\"Total 6s rolled:\", count_six)\n",
    "print(\"Total 1s rolled:\", count_one)\n",
    "print(\"Total times two 6s in a row:\", count_two_sixes)\n",
    "\n",
    "#2 Jumping Jacks\n",
    "total_jacks = 100\n",
    "set_size = 10\n",
    "completed = 0\n",
    "\n",
    "for _ in range(total_jacks // set_size):\n",
    "    completed += set_size\n",
    "    print(f\"\\nYou have completed {completed} jumping jacks.\")\n",
    "\n",
    "    tired = input(\"Are you tired? (yes or no): \").lower()\n",
    "\n",
    "    if tired in [\"yes\"]:\n",
    "        skip = input(\"Do you want to skip the remaining sets? (yes or no): \").lower()\n",
    "        if skip in [\"yes\"]:\n",
    "            print(f\"You completed a total of {completed} jumping jacks.\")\n",
    "            break\n",
    "        else:\n",
    "            print(f\"{total_jacks - completed} jumping jacks remaining.\")\n",
    "    else:\n",
    "        print(f\"{total_jacks - completed} jumping jacks remaining.\")\n",
    "\n",
    "else:\n",
    "    print(\"Congratulations! You completed the workout.\")\n"
   ]
  },
  {
   "cell_type": "code",
   "execution_count": 28,
   "id": "01fb7a00-da73-4712-abf0-e72af35f2480",
   "metadata": {},
   "outputs": [
    {
     "name": "stdout",
     "output_type": "stream",
     "text": [
      "Friends with name length: [('Aditya', 6), ('Meera', 5), ('Sanjay', 6), ('Priya', 5), ('Rahul', 5)]\n",
      "\n",
      "My total expenses: 3000\n",
      "\n",
      "Partner's total expenses: 3050\n",
      "\n",
      "My partner spent more overall.\n",
      "\n",
      "Biggest spending difference is in 'Hotel' category: 200\n"
     ]
    }
   ],
   "source": [
    "#5.Dictionary\n",
    "\n",
    "#1 names and it's length.\n",
    "friends = [\"Aditya\", \"Meera\", \"Sanjay\", \"Priya\", \"Rahul\"]\n",
    "friends_with_length = [(name, len(name)) for name in friends]\n",
    "print(\"Friends with name length:\", friends_with_length)\n",
    "\n",
    "#2 Trip expenses tracking.\n",
    "my_expenses = {\n",
    "    \"Hotel\": 1200,\n",
    "    \"Food\": 800,\n",
    "    \"Transportation\": 500,\n",
    "    \"Attractions\": 300,\n",
    "    \"Miscellaneous\": 200\n",
    "}\n",
    "\n",
    "partner_expenses = {\n",
    "    \"Hotel\": 1000,\n",
    "    \"Food\": 900,\n",
    "    \"Transportation\": 600,\n",
    "    \"Attractions\": 400,\n",
    "    \"Miscellaneous\": 150\n",
    "}\n",
    "\n",
    "my_total = sum(my_expenses.values())\n",
    "partner_total = sum(partner_expenses.values())\n",
    "\n",
    "print(f\"\\nMy total expenses: {my_total}\")\n",
    "print(f\"\\nPartner's total expenses: {partner_total}\")\n",
    "\n",
    "if my_total > partner_total:\n",
    "    print(\"\\nI spent more overall.\")\n",
    "elif partner_total > my_total:\n",
    "    print(\"\\nMy partner spent more overall.\")\n",
    "else:\n",
    "    print(\"\\nWe both spent the same amount.\")\n",
    "\n",
    "max_difference = 0\n",
    "max_category = \"\"\n",
    "\n",
    "for category in my_expenses:\n",
    "    difference = abs(my_expenses[category] - partner_expenses[category])\n",
    "    if difference > max_difference:\n",
    "        max_difference = difference\n",
    "        max_category = category\n",
    "\n",
    "print(f\"\\nBiggest spending difference is in '{max_category}' category: {max_difference}\")\n",
    "\n"
   ]
  }
 ],
 "metadata": {
  "kernelspec": {
   "display_name": "Python 3 (ipykernel)",
   "language": "python",
   "name": "python3"
  },
  "language_info": {
   "codemirror_mode": {
    "name": "ipython",
    "version": 3
   },
   "file_extension": ".py",
   "mimetype": "text/x-python",
   "name": "python",
   "nbconvert_exporter": "python",
   "pygments_lexer": "ipython3",
   "version": "3.13.5"
  }
 },
 "nbformat": 4,
 "nbformat_minor": 5
}
